{
 "cells": [
  {
   "cell_type": "code",
   "execution_count": 12,
   "id": "fcb4428f-9df6-4cd6-bf57-f1f36193842d",
   "metadata": {},
   "outputs": [],
   "source": [
    "import socket\n",
    "import threading\n",
    "from typing import Tuple\n",
    "\n",
    "class DeviceHandler:\n",
    "    def __init__(self, ip: str, port: int):\n",
    "        self.ip = ip\n",
    "        self.port = port\n",
    "\n",
    "    def read_data(self) -> str:\n",
    "        with socket.socket(socket.AF_INET, socket.SOCK_STREAM) as s:\n",
    "            s.connect((self.ip, self.port))\n",
    "            s.sendall(b'read')\n",
    "            data = s.recv(1024)\n",
    "        return data.decode()\n",
    "\n",
    "    def write_data(self, data: str) -> None:\n",
    "        with socket.socket(socket.AF_INET, socket.SOCK_STREAM) as s:\n",
    "            s.connect((self.ip, self.port))\n",
    "            s.sendall(data.encode())\n",
    "\n",
    "class DeviceManager:\n",
    "    def __init__(self):\n",
    "        self.devices = []\n",
    "\n",
    "    def add_device(self, ip: str, port: int) -> None:\n",
    "        device = DeviceHandler(ip, port)\n",
    "        self.devices.append(device)\n",
    "\n",
    "    def read_all_devices(self) -> None:\n",
    "        threads = []\n",
    "        for device in self.devices:\n",
    "            thread = threading.Thread(target=self._read_device, args=(device,))\n",
    "            threads.append(thread)\n",
    "            thread.start()\n",
    "\n",
    "        for thread in threads:\n",
    "            thread.join()\n",
    "\n",
    "    def write_all_devices(self, data: str) -> None:\n",
    "        threads = []\n",
    "        for device in self.devices:\n",
    "            thread = threading.Thread(target=self._write_device, args=(device, data))\n",
    "            threads.append(thread)\n",
    "            thread.start()\n",
    "\n",
    "        for thread in threads:\n",
    "            thread.join()\n",
    "\n",
    "    def _read_device(self, device: DeviceHandler) -> None:\n",
    "        data = device.read_data()\n",
    "        print(f\"Read from {device.ip}:{device.port} - {data}\")\n",
    "\n",
    "    def _write_device(self, device: DeviceHandler, data: str) -> None:\n",
    "        device.write_data(data)\n",
    "        print(f\"Wrote to {device.ip}:{device.port} - {data}\")"
   ]
  },
  {
   "cell_type": "code",
   "execution_count": 13,
   "id": "012f10ae-a677-4492-9613-8b5e80ffc039",
   "metadata": {},
   "outputs": [
    {
     "name": "stderr",
     "output_type": "stream",
     "text": [
      "Exception in thread Exception in thread Thread-12 (start_server):\n",
      "Traceback (most recent call last):\n",
      "  File \"C:\\Users\\sahna\\AppData\\Local\\Programs\\Python\\Python312\\Lib\\threading.py\", line 1052, in _bootstrap_inner\n",
      "Thread-11 (start_server):\n",
      "Traceback (most recent call last):\n",
      "  File \"C:\\Users\\sahna\\AppData\\Local\\Programs\\Python\\Python312\\Lib\\threading.py\", line 1052, in _bootstrap_inner\n",
      "    self.run()\n",
      "  File \"C:\\Users\\sahna\\AppData\\Local\\Programs\\Python\\Python312\\Lib\\threading.py\", line 989, in run\n",
      "    self.run()\n",
      "  File \"C:\\Users\\sahna\\AppData\\Local\\Programs\\Python\\Python312\\Lib\\threading.py\", line 989, in run\n",
      "    self._target(*self._args, **self._kwargs)\n",
      "  File \"C:\\Users\\sahna\\AppData\\Local\\Temp\\ipykernel_7616\\546661165.py\", line 3, in start_server\n",
      "    self._target(*self._args, **self._kwargs)\n",
      "  File \"C:\\Users\\sahna\\AppData\\Local\\Temp\\ipykernel_7616\\546661165.py\", line 3, in start_server\n",
      "OSError: [WinError 10048] Only one usage of each socket address (protocol/network address/port) is normally permitted\n",
      "OSError: [WinError 10048] Only one usage of each socket address (protocol/network address/port) is normally permitted\n"
     ]
    }
   ],
   "source": [
    "def start_server(ip: str, port: int):\n",
    "    with socket.socket(socket.AF_INET, socket.SOCK_STREAM) as s:\n",
    "        s.bind((ip, port))\n",
    "        s.listen()\n",
    "        print(f\"Server started at {ip}:{port}\")\n",
    "        while True:\n",
    "            conn, addr = s.accept()\n",
    "            with conn:\n",
    "                print(f\"Connected by {addr}\")\n",
    "                data = conn.recv(1024)\n",
    "                if data == b'read':\n",
    "                    conn.sendall(b\"sample data\")\n",
    "                else:\n",
    "                    print(f\"Received data: {data.decode()}\")\n",
    "                    conn.sendall(b\"ack\")\n",
    "\n",
    "# Start server in separate threads for testing\n",
    "server_thread_1 = threading.Thread(target=start_server, args=(\"127.0.0.1\", 8080))\n",
    "server_thread_1.start()\n",
    "\n",
    "server_thread_2 = threading.Thread(target=start_server, args=(\"127.0.0.1\", 8081))\n",
    "server_thread_2.start()"
   ]
  },
  {
   "cell_type": "code",
   "execution_count": 14,
   "id": "077310e9-9e2a-44ad-b5c2-24c7e7520df1",
   "metadata": {},
   "outputs": [
    {
     "name": "stderr",
     "output_type": "stream",
     "text": [
      "..\n",
      "----------------------------------------------------------------------\n",
      "Ran 2 tests in 0.008s\n",
      "\n",
      "OK\n"
     ]
    },
    {
     "name": "stdout",
     "output_type": "stream",
     "text": [
      "Connected by ('127.0.0.1', 58438)Connected by ('127.0.0.1', 58439)\n",
      "\n",
      "Read from 127.0.0.1:8080 - sample data\n",
      "Read from 127.0.0.1:8081 - sample data\n",
      "Connected by ('127.0.0.1', 58440)\n",
      "Received data: test data\n",
      "Wrote to 127.0.0.1:8080 - test data\n",
      "Connected by ('127.0.0.1', 58441)\n",
      "Received data: test data\n",
      "Wrote to 127.0.0.1:8081 - test data\n"
     ]
    }
   ],
   "source": [
    "import unittest\n",
    "\n",
    "class TestTCPCommunication(unittest.TestCase):\n",
    "    def setUp(self):\n",
    "        self.manager = DeviceManager()\n",
    "        self.manager.add_device(\"127.0.0.1\", 8080)\n",
    "        self.manager.add_device(\"127.0.0.1\", 8081)\n",
    "\n",
    "    def test_read_data(self):\n",
    "        self.manager.read_all_devices()\n",
    "\n",
    "    def test_write_data(self):\n",
    "        self.manager.write_all_devices(\"test data\")\n",
    "\n",
    "if __name__ == \"__main__\":\n",
    "    unittest.main(argv=['first-arg-is-ignored'], exit=False)"
   ]
  }
 ],
 "metadata": {
  "kernelspec": {
   "display_name": "Python 3 (ipykernel)",
   "language": "python",
   "name": "python3"
  },
  "language_info": {
   "codemirror_mode": {
    "name": "ipython",
    "version": 3
   },
   "file_extension": ".py",
   "mimetype": "text/x-python",
   "name": "python",
   "nbconvert_exporter": "python",
   "pygments_lexer": "ipython3",
   "version": "3.12.0"
  }
 },
 "nbformat": 4,
 "nbformat_minor": 5
}
